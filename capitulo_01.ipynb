{
 "cells": [
  {
   "cell_type": "markdown",
   "metadata": {},
   "source": [
    "# Setting the Stage\n",
    "\n",
    "Este capítulo te ayudará a configurar nuestro entorno de trabajo. Debo señalar que el sistema operativo esperado para el aprendizaje profundo es Linux, con la mayoría de las cosas funcionando también bajo macOS. Windows suele ser considerado secundario, y muchos puertos de herramientas de aprendizaje profundo están mal mantenidos, aunque esto está mejorando con el tiempo.\n",
    "\n",
    "Comenzaremos con algunas instrucciones para instalar los paquetes de software esperados. Luego echaremos un vistazo rápido a la biblioteca NumPy para Python 3.x. NumPy es fundamental para prácticamente todos los usos científicos de Python, y es esencial que sepas cómo trabajar con él a un nivel básico. A continuación, presentaré SciPy. Esta es también una herramienta necesaria para la ciencia, pero solo necesitaremos la parte más pequeña de ella aquí. Finalmente, hablaré un poco sobre la herramienta Scikit-Learn, abreviada aquí como sklearn. Esta valiosa herramienta implementa muchos de los modelos tradicionales de aprendizaje automático.\n",
    "\n",
    "A lo largo del libro, a menudo utilizaré ejemplos en ejecución para ilustrar conceptos. Todos los fragmentos de código asumen que se ha ejecutado la siguiente línea:"
   ]
  },
  {
   "cell_type": "code",
   "execution_count": 2,
   "metadata": {},
   "outputs": [],
   "source": [
    "import numpy as np"
   ]
  },
  {
   "cell_type": "markdown",
   "metadata": {},
   "source": [
    "Además, en algunos lugares, el código hará referencia a la salida de un fragmento que apareció anteriormente en el capítulo. Los ejemplos de código son breves, por lo que seguir uno tras otro no debería ser una carga. Recomiendo dejar una sola sesión de Python en ejecución mientras trabajas en un capítulo, aunque esto no es necesario."
   ]
  },
  {
   "cell_type": "markdown",
   "metadata": {},
   "source": [
    "## Numpy\n",
    "\n",
    "Ahora introduciré algunos conceptos básicos y manipulaciones de NumPy. Un tutorial completo está disponible en línea en [https://docs.scipy.org/doc/numpy/user/quickstart.html](https://docs.scipy.org/doc/numpy/user/quickstart.html).\n"
   ]
  },
  {
   "cell_type": "code",
   "execution_count": 5,
   "metadata": {},
   "outputs": [
    {
     "name": "stdout",
     "output_type": "stream",
     "text": [
      "Versión de NumPy: 1.26.4\n"
     ]
    }
   ],
   "source": [
    "print(f'Versión de NumPy: {np.__version__}')"
   ]
  },
  {
   "cell_type": "markdown",
   "metadata": {},
   "source": [
    "La primera línea carga NumPy y establece un nombre abreviado para él, np. Usar el nombre abreviado no es necesario, pero hacerlo es casi universal. Asumiremos np en adelante. La segunda línea muestra la versión. Debería ser al menos lo que se muestra arriba."
   ]
  },
  {
   "cell_type": "markdown",
   "metadata": {},
   "source": [
    "### Definiendo arrays\n",
    "\n",
    "NumPy opera en arrays y es bastante bueno convirtiendo listas en arrays. Piensa en el tipo de arrays que uno encuentra en un lenguaje como C o Java. NumPy proporciona una ventaja porque aunque Python es elegante, es demasiado lento para usos científicos cuando se simulan arrays con listas. Los arrays reales son mucho más rápidos. Aquí tienes un ejemplo que define un array a partir de una lista, y luego examina algunas de sus propiedades:"
   ]
  },
  {
   "cell_type": "code",
   "execution_count": 6,
   "metadata": {},
   "outputs": [
    {
     "name": "stdout",
     "output_type": "stream",
     "text": [
      "Array definido: [1 2 3 4]\n",
      "Tamaño del array: 4\n",
      "Forma del array: (4,)\n",
      "Tipo de datos del array: int32\n"
     ]
    }
   ],
   "source": [
    "a = np.array([1,2,3,4])\n",
    "print(f'Array definido: {a}')\n",
    "print(f'Tamaño del array: {a.size}')\n",
    "print(f'Forma del array: {a.shape}')\n",
    "print(f'Tipo de datos del array: {a.dtype}')"
   ]
  },
  {
   "cell_type": "markdown",
   "metadata": {},
   "source": [
    "Este ejemplo define una lista de cuatro elementos y luego la pasa a np.array para convertirla en un array de NumPy. Las propiedades básicas de un array incluyen el tamaño y la forma. El tamaño es de cuatro elementos. La forma también es cuatro, como una tupla, lo que muestra que a es un vector, un array unidimensional (1D). La forma es cuatro porque el array a tiene cuatro elementos. Si a fuera bidimensional (2D), la forma tendría dos valores, uno para cada eje del array. Mira el siguiente ejemplo, donde la forma de b nos dice que b tiene dos filas y cuatro columnas:\n"
   ]
  },
  {
   "cell_type": "code",
   "execution_count": 9,
   "metadata": {},
   "outputs": [
    {
     "name": "stdout",
     "output_type": "stream",
     "text": [
      "Array definido:\n",
      " [[1 2 3 4]\n",
      " [5 6 7 8]]\n",
      "Tamaño del array: 8\n",
      "Forma del array: (2, 4)\n",
      "Tipo de datos del array: int32\n"
     ]
    }
   ],
   "source": [
    "b = np.array([[1,2,3,4], [5,6,7,8]])\n",
    "print(f'Array definido:\\n {b}')\n",
    "print(f'Tamaño del array: {b.size}')\n",
    "print(f'Forma del array: {b.shape}')\n",
    "print(f'Tipo de datos del array: {b.dtype}')"
   ]
  },
  {
   "cell_type": "markdown",
   "metadata": {},
   "source": [
    "### Tipos de datos\n",
    "\n",
    "\n",
    "Los tipos de datos numéricos en Python vienen en dos variantes: enteros de tamaño arbitrario (intenta $2^{1000}$) o números de punto flotante. Sin embargo, NumPy permite arrays de muchos tipos diferentes. Bajo el capó, NumPy está implementado en C, por lo que soporta el mismo conjunto de tipos de datos que C. El ejemplo anterior muestra que la función np.array tomó la lista dada y, dado que cada elemento de la lista era un entero, creó un array donde cada elemento era un entero firmado de 64 bits. La siguiente tabla muestra los tipos de datos con los que trabaja NumPy; podemos dejar que NumPy elija el tipo de datos por nosotros, o podemos especificarlo explícitamente.\n",
    "\n",
    "<center>\n",
    "\n",
    "| Nombre en NumPy | Equivalencia en C  | Rango                           |\n",
    "|------------|--------------------|---------------------------------|\n",
    "| float64    | double             | $±[2.225 × 10^{-308}, 1.798 × 10^{308}]$ |\n",
    "| float32    | float              | $±[1.175 × 10^{38}, 3.403 × 10^{38}]$     |\n",
    "| int64      | long long          | $[–2^{63}, 2^{63−1}]$                 |\n",
    "| uint64     | unsigned long long | $[0, 2^{64−1}]$                     |\n",
    "| int32      | long               | $[–2^{31}, 2^{31−1}]$                 |\n",
    "| uint32     | unsigned long      | $[0, 2^{32−1}]$                     |\n",
    "| uint8      | unsigned char      | $[0, 255 = 2^{8−1}]$               |\n",
    "\n",
    "</center>\n",
    "\n",
    "Veamos algunos ejemplos de arrays con tipos de datos específicos:"
   ]
  },
  {
   "cell_type": "code",
   "execution_count": 10,
   "metadata": {},
   "outputs": [
    {
     "name": "stdout",
     "output_type": "stream",
     "text": [
      "Tipo de datos del array: uint8\n",
      "Tipo de datos del array: uint16\n",
      "Tipo de datos del array: uint32\n",
      "Tipo de datos del array: float64\n",
      "Tipo de datos del array: float32\n",
      "Tipo de datos del array: uint8\n"
     ]
    },
    {
     "name": "stderr",
     "output_type": "stream",
     "text": [
      "C:\\Users\\Javie\\AppData\\Local\\Temp\\ipykernel_23932\\3262315278.py:16: DeprecationWarning: NumPy will stop allowing conversion of out-of-bound Python integers to integer arrays.  The conversion of 333 to uint8 will fail in the future.\n",
      "For the old behavior, usually:\n",
      "    np.array(value).astype(dtype)\n",
      "will give the desired result (the cast overflows).\n",
      "  c = np.array([111,222,333,444], dtype='uint8')\n",
      "C:\\Users\\Javie\\AppData\\Local\\Temp\\ipykernel_23932\\3262315278.py:16: DeprecationWarning: NumPy will stop allowing conversion of out-of-bound Python integers to integer arrays.  The conversion of 444 to uint8 will fail in the future.\n",
      "For the old behavior, usually:\n",
      "    np.array(value).astype(dtype)\n",
      "will give the desired result (the cast overflows).\n",
      "  c = np.array([111,222,333,444], dtype='uint8')\n"
     ]
    }
   ],
   "source": [
    "a = np.array([1,2,3,4], dtype='uint8')\n",
    "print(f'Tipo de datos del array: {a.dtype}')\n",
    "\n",
    "a = np.array([1,2,3,4], dtype='uint16')\n",
    "print(f'Tipo de datos del array: {a.dtype}')\n",
    "\n",
    "a = np.array([1,2,3,4], dtype='uint32')\n",
    "print(f'Tipo de datos del array: {a.dtype}')\n",
    "\n",
    "b = np.array([1,2,3,4.0])\n",
    "print(f'Tipo de datos del array: {b.dtype}')\n",
    "\n",
    "b = np.array([1,2,3,4.0], dtype='float32')\n",
    "print(f'Tipo de datos del array: {b.dtype}')\n",
    "\n",
    "c = np.array([111,222,333,444], dtype='uint8')\n",
    "print(f'Tipo de datos del array: {c.dtype}')"
   ]
  },
  {
   "cell_type": "markdown",
   "metadata": {},
   "source": [
    "Los ejemplos con el array $a$ utilizan tipos de datos enteros, y los ejemplos con el array $b$ utilizan tipos de datos de punto flotante. Observa que el primer ejemplo con b se predeterminó a un flotante de 64 bits. NumPy hizo esto porque uno de los elementos de la lista de entrada era un flotante (4.0).\n",
    "\n",
    "El último ejemplo que define el array $c$ parece ser un error. Pero no lo es. NumPy no nos avisa si el tipo de datos solicitado no puede contener los valores dados. Aquí, tenemos un entero de 8 bits que solo puede contener valores en el rango [0, 255]. Los dos primeros, 111 y 222, caben, pero los dos últimos, 333 y 444, son demasiado grandes. NumPy silenciosamente mantuvo solo los 8 bits más bajos de estos valores, que corresponden a 77 y 188, respectivamente. La lección es que NumPy espera que sepas lo que estás haciendo en cuanto a los tipos de datos. Por lo general, esto no es un problema, pero es algo para tener en cuenta."
   ]
  },
  {
   "cell_type": "markdown",
   "metadata": {},
   "source": [
    "### Arrays bidimensionales\n",
    "\n",
    "Si una lista se convierte en un vector 1D, podríamos sospechar que una lista de listas se convertiría en un array 2D. Y tendríamos razón."
   ]
  },
  {
   "cell_type": "code",
   "execution_count": 11,
   "metadata": {},
   "outputs": [
    {
     "name": "stdout",
     "output_type": "stream",
     "text": [
      "Array definido:\n",
      " [[1 2 3]\n",
      " [4 5 6]\n",
      " [7 8 9]]\n",
      "Tamaño del array: 9\n",
      "Forma del array: (3, 3)\n",
      "Tipo de datos del array: int32\n"
     ]
    }
   ],
   "source": [
    "d = np.array([[1,2,3],[4,5,6],[7,8,9]])\n",
    "print(f'Array definido:\\n {d}')\n",
    "print(f'Tamaño del array: {d.size}')\n",
    "print(f'Forma del array: {d.shape}')\n",
    "print(f'Tipo de datos del array: {d.dtype}')"
   ]
  },
  {
   "cell_type": "markdown",
   "metadata": {},
   "source": [
    "Vemos que una lista de tres sublistas se mapea a un array 3 × 3 (una matriz). Los subíndices en los arrays de NumPy comienzan desde cero, por lo que al hacer referencia a d[1,2] arriba, obtenemos 6."
   ]
  },
  {
   "cell_type": "markdown",
   "metadata": {},
   "source": [
    "### Ceros y unos\n",
    "\n",
    "Dos funciones particularmente útiles de NumPy son np.zeros y np.ones. Ambas definen arrays dada una forma. La primera inicializa los elementos del array a cero, mientras que la segunda los inicializa a uno. Esta es la forma principal de crear arrays de NumPy desde cero."
   ]
  },
  {
   "cell_type": "code",
   "execution_count": 13,
   "metadata": {},
   "outputs": [
    {
     "name": "stdout",
     "output_type": "stream",
     "text": [
      "Array definido:\n",
      " [[ 0  1  2  3]\n",
      " [ 4  5  6  7]\n",
      " [ 8  9 10 11]]\n",
      "Array modificado:\n",
      " [[ 0  1  2  3]\n",
      " [44 55 66 77]\n",
      " [ 8  9 10 11]]\n"
     ]
    }
   ],
   "source": [
    "a = np.arange(12).reshape((3,4))\n",
    "print(f'Array definido:\\n {a}')\n",
    "\n",
    "a[1] = [44,55,66,77]\n",
    "print(f'Array modificado:\\n {a}')"
   ]
  },
  {
   "cell_type": "markdown",
   "metadata": {},
   "source": [
    "Este ejemplo introduce np.arange, que es el equivalente de NumPy a la función range de Python. Observa el uso del método reshape para cambiar el vector de 12 elementos en una matriz 3 × 4. Además, observa que a[1] devuelve todo el subarreglo, comenzando con el primer índice de la primera dimensión. Esta sintaxis es una abreviatura de a[1,:] donde : significa todos los elementos de la dimensión dada. Esta abreviatura también funciona para asignaciones, como muestra la siguiente línea.\n",
    "\n",
    "La misma sintaxis para indexar segmentos de una lista de Python funciona con NumPy. Así es como se vería si continuamos con el ejemplo anterior:"
   ]
  },
  {
   "cell_type": "code",
   "execution_count": 16,
   "metadata": {},
   "outputs": [
    {
     "name": "stdout",
     "output_type": "stream",
     "text": [
      "Muestra de un rango de la matriz:\n",
      " [[ 0  1  2  3]\n",
      " [44 55 66 77]]\n",
      "Muestra de un rango de la matriz:\n",
      " [[ 0  1  2  3]\n",
      " [44 55 66 77]]\n",
      "Muestra de un rango de la matriz:\n",
      " [[ 0  1  2]\n",
      " [44 55 66]]\n",
      "Array definido:\n",
      " [ 0  1  2  3  4  5  6  7  8  9 10 11]\n",
      "Muestra de un rango de la matriz:\n",
      " [ 0  2  4  6  8 10]\n",
      "Muestra de un rango de la matriz:\n",
      " [0 3 6 9]\n",
      "Muestra de un rango de la matriz:\n",
      " [11 10  9  8  7  6  5  4  3  2  1  0]\n"
     ]
    }
   ],
   "source": [
    "print(f'Muestra de un rango de la matriz:\\n {a[:2]}')\n",
    "print(f'Muestra de un rango de la matriz:\\n {a[:2,:]}')\n",
    "print(f'Muestra de un rango de la matriz:\\n {a[:2,:3]}')\n",
    "\n",
    "b = np.arange(12)\n",
    "print(f'Array definido:\\n {b}')\n",
    "print(f'Muestra de un rango de la matriz:\\n {b[::2]}')\n",
    "print(f'Muestra de un rango de la matriz:\\n {b[::3]}')\n",
    "print(f'Muestra de un rango de la matriz:\\n {b[::-1]}')"
   ]
  },
  {
   "cell_type": "markdown",
   "metadata": {},
   "source": [
    "Vemos que a[:2] devuelve las dos primeras filas con un $:$ implícito para la segunda dimensión, como muestra la línea siguiente. Con nuestro tercer comando, obtenemos un subarreglo en dos dimensiones tomando las dos primeras filas y las tres primeras columnas con a[:2,:3]. Los ejemplos con b muestran cómo extraer cada otro o cada tercer elemento. El último ejemplo es particularmente útil: utiliza un decremento negativo para invertir la dimensión. El decremento es –1 para invertir todos los valores. Si fuera –2, obtendríamos cada otro elemento de $b$ en orden inverso.\n",
    "\n",
    "NumPy utiliza $:$ para indicar todos los elementos a lo largo de una dimensión específica. También permite usar $...$ (elipsis) como una abreviatura de \"tantos : como sean necesarios\". Por ejemplo, vamos a definir un array tridimensional (3D):"
   ]
  },
  {
   "cell_type": "code",
   "execution_count": 17,
   "metadata": {},
   "outputs": [
    {
     "name": "stdout",
     "output_type": "stream",
     "text": [
      "Array definido:\n",
      " [[[ 0  1]\n",
      "  [ 2  3]\n",
      "  [ 4  5]]\n",
      "\n",
      " [[ 6  7]\n",
      "  [ 8  9]\n",
      "  [10 11]]\n",
      "\n",
      " [[12 13]\n",
      "  [14 15]\n",
      "  [16 17]]\n",
      "\n",
      " [[18 19]\n",
      "  [20 21]\n",
      "  [22 23]]]\n"
     ]
    }
   ],
   "source": [
    "a = np.arange(24).reshape((4,3,2))\n",
    "print(f'Array definido:\\n {a}')"
   ]
  },
  {
   "cell_type": "markdown",
   "metadata": {},
   "source": [
    "Puedes pensar en el array a como una colección de cuatro matrices 3 × 2. Para actualizar la segunda de estas matrices, podrías usar lo siguiente:"
   ]
  },
  {
   "cell_type": "code",
   "execution_count": 18,
   "metadata": {},
   "outputs": [
    {
     "name": "stdout",
     "output_type": "stream",
     "text": [
      "Array modificado:\n",
      " [[[ 0  1]\n",
      "  [ 2  3]\n",
      "  [ 4  5]]\n",
      "\n",
      " [[11 22]\n",
      "  [33 44]\n",
      "  [55 66]]\n",
      "\n",
      " [[12 13]\n",
      "  [14 15]\n",
      "  [16 17]]\n",
      "\n",
      " [[18 19]\n",
      "  [20 21]\n",
      "  [22 23]]]\n"
     ]
    }
   ],
   "source": [
    "a[1,:,:] = [[11,22],[33,44],[55,66]]\n",
    "print(f'Array modificado:\\n {a}')"
   ]
  },
  {
   "cell_type": "markdown",
   "metadata": {},
   "source": [
    "Aquí, especificamos las dimensiones explícitamente con : y mostramos que NumPy no es quisquilloso: sabe que una lista de listas coincide con la forma esperada del subarreglo y actualiza el array a en consecuencia. Obtenemos el mismo efecto al usar los puntos suspensivos como se ve a continuación."
   ]
  },
  {
   "cell_type": "code",
   "execution_count": 19,
   "metadata": {},
   "outputs": [
    {
     "name": "stdout",
     "output_type": "stream",
     "text": [
      "Array modificado:\n",
      " [[[ 0  1]\n",
      "  [ 2  3]\n",
      "  [ 4  5]]\n",
      "\n",
      " [[11 22]\n",
      "  [33 44]\n",
      "  [55 66]]\n",
      "\n",
      " [[99 99]\n",
      "  [99 99]\n",
      "  [99 99]]\n",
      "\n",
      " [[18 19]\n",
      "  [20 21]\n",
      "  [22 23]]]\n"
     ]
    }
   ],
   "source": [
    "a[2,...] = [[99,99],[99,99],[99,99]]\n",
    "print(f'Array modificado:\\n {a}')"
   ]
  },
  {
   "cell_type": "markdown",
   "metadata": {},
   "source": [
    "### Leer y escribir en el disco\n",
    "\n",
    "Los arrays de NumPy pueden ser escritos en y cargados desde el disco usando np.save y np.load, de la siguiente manera:"
   ]
  },
  {
   "cell_type": "code",
   "execution_count": 22,
   "metadata": {},
   "outputs": [
    {
     "name": "stdout",
     "output_type": "stream",
     "text": [
      "Array definido:\n",
      " [[2 0 3 0]\n",
      " [0 0 3 0]\n",
      " [0 1 2 2]]\n",
      "Array obtenido del disco:\n",
      " [[2 0 3 0]\n",
      " [0 0 3 0]\n",
      " [0 1 2 2]]\n"
     ]
    }
   ],
   "source": [
    "a = np.random.randint(0,5,(3,4))\n",
    "print(f'Array definido:\\n {a}')\n",
    "\n",
    "np.save(\"./numpy/random.npy\",a)\n",
    "b = np.load(\"./numpy/random.npy\")\n",
    "print(f'Array obtenido del disco:\\n {b}')"
   ]
  },
  {
   "cell_type": "markdown",
   "metadata": {},
   "source": [
    "Aquí, estamos usando np.random.randint para crear un array de enteros aleatorio de 3 × 4 con valores en el rango de 0 a 5. NumPy tiene extensas bibliotecas para números aleatorios. Escribimos el array a en el disco como random.npy. La extensión .npy es necesaria y se agregará si no la proporcionamos. Luego cargamos el array de vuelta desde el disco usando np.load.\n",
    "\n",
    "Encontraremos otras funciones de NumPy a lo largo del libro. Las explicaré cuando se introduzcan por primera vez. Ahora pasemos a echar un vistazo rápido a la biblioteca SciPy."
   ]
  },
  {
   "cell_type": "markdown",
   "metadata": {},
   "source": [
    "## SciPy\n",
    "\n",
    "SciPy añade una gran cantidad de funcionalidades a Python. Utiliza NumPy bajo el capó, por lo que a menudo se instalan juntos. Un tutorial completo está disponible aquí: [https://docs.scipy.org/doc/scipy/reference/tutorial/index.html](https://docs.scipy.org/doc/scipy/reference/tutorial/index.html).\n",
    "En este libro, nos enfocaremos en las funciones del módulo scipy.stats."
   ]
  },
  {
   "cell_type": "code",
   "execution_count": 23,
   "metadata": {},
   "outputs": [
    {
     "name": "stdout",
     "output_type": "stream",
     "text": [
      "Versión de SciPy: 1.12.0\n"
     ]
    }
   ],
   "source": [
    "import scipy\n",
    "print(f'Versión de SciPy: {scipy.__version__}')"
   ]
  },
  {
   "cell_type": "markdown",
   "metadata": {},
   "source": [
    "Esto carga el módulo SciPy y verifica que el número de versión sea al menos lo que debería ser. Cualquier versión posterior de SciPy debería funcionar bien. Como prueba rápida, intentemos lo siguiente:"
   ]
  },
  {
   "cell_type": "code",
   "execution_count": 26,
   "metadata": {},
   "outputs": [
    {
     "name": "stdout",
     "output_type": "stream",
     "text": [
      "Evaluación entre a y b: TtestResult(statistic=0.5843080173337849, pvalue=0.559079064489957, df=1998.0)\n",
      "Evaluación entre a y c: TtestResult(statistic=-1.2194331650219166, pvalue=0.22282376186974148, df=1998.0)\n"
     ]
    }
   ],
   "source": [
    "from scipy.stats import ttest_ind\n",
    "\n",
    "a = np.random.normal(0,1,1000)\n",
    "b = np.random.normal(0,0.5,1000)\n",
    "c = np.random.normal(0.1,1,1000)\n",
    "\n",
    "print(f'Evaluación entre a y b: {ttest_ind(a,b)}')\n",
    "print(f'Evaluación entre a y c: {ttest_ind(a,c)}')"
   ]
  },
  {
   "cell_type": "markdown",
   "metadata": {},
   "source": [
    "Primero cargamos NumPy y luego la función `ttest_ind` del módulo `stats` de SciPy. Esta función toma dos conjuntos de datos, como puntajes de prueba de dos clases, y plantea la pregunta: ¿estos conjuntos de datos tienen el mismo valor promedio? O, más precisamente, pregunta: ¿con qué fuerza podemos creer que el mismo proceso generó estos dos conjuntos de datos? El test $t$ es un método clásico para responder a esta pregunta. Una forma de evaluar su resultado es observar el valor $p$. Puedes pensar en un valor $p$ como la probabilidad de que los dos conjuntos tengan la diferencia medida en el valor promedio si provienen del mismo proceso generador. Una probabilidad cercana a 1 significa que tenemos mucha confianza en que los dos conjuntos provienen del mismo proceso.\n",
    "\n",
    "Las variables `a`, `b` y `c` son arrays unidimensionales donde los valores del array (aquí 1,000) se extraen de curvas gaussianas, también llamadas curvas normales. Llegaremos a esto más tarde, pero por ahora, sabemos que los números se extraen de una curva de campana donde los valores cerca del medio son más propensos a ser seleccionados que aquellos cerca de los bordes. Los dos primeros argumentos para `normal` son el valor promedio y la desviación estándar, una medida de cuán dispersa está la curva de campana: cuanto mayor sea la desviación estándar, más plana y ancha será la curva.\n",
    "\n",
    "Para este ejemplo, esperaríamos que `a` y `b` fueran muy similares, ya que ambos tienen un valor promedio de 0.0, aunque con formas ligeramente diferentes de curvas de campana. Sin embargo, `c` tiene un valor promedio de 0.1. Esperamos que el test $t$ detecte esto y nos indique que debemos tener cuidado al creer que `a` y `c` fueron generados por el mismo proceso.\n",
    "\n",
    "La salida de la función `ttest_ind` enumera el valor $p$ (p-value). Y, como esperábamos, comparar `a` y `b` devuelve un valor $p$ de 0.98, lo que significa que la probabilidad de ver la diferencia entre los promedios de estos dos conjuntos de datos, dado que provienen del mismo proceso generador, es aproximadamente del 98 por ciento. Sin embargo, cuando comparamos `a` y `c`, obtenemos un valor $p$ del 2.7 por ciento (0.027). Esto significa que hay aproximadamente un 3 por ciento de posibilidades de que veamos la diferencia entre `a` y `c` si fueran generados por el mismo proceso. Por lo tanto, concluimos que `a` y `c` provienen de procesos diferentes. Decimos, entonces, que la diferencia entre estos dos conjuntos de datos es estadísticamente significativa.\n",
    "\n",
    "Históricamente, los valores $p$ inferiores a 0.05 se han considerado estadísticamente significativos. Sin embargo, este umbral es arbitrario, y la experiencia reciente en la replicación de experimentos, especialmente en las ciencias sociales, ha llevado a pedir un umbral más estricto. Usar un valor $p$ de 0.05 significa que estarás equivocado aproximadamente 1 vez de cada 20 (1/20 = 0.05), lo cual es un umbral demasiado generoso. Dicho esto, un valor $p$ cercano a 0.05 sugiere que algo está sucediendo, y se justifica una mayor investigación (y un conjunto de datos más grande).\n"
   ]
  },
  {
   "cell_type": "markdown",
   "metadata": {},
   "source": [
    "## Matplotlib\n",
    "\n",
    "Usaremos Matplotlib para generar gráficos. Verifiquemos sus capacidades de trazado 2D y 3D aquí. Primero, un ejemplo simple en 2D:"
   ]
  },
  {
   "cell_type": "code",
   "execution_count": null,
   "metadata": {},
   "outputs": [],
   "source": [
    "import matplotlib.pylab as plt\n",
    "x = np.random.random(100)\n",
    "plt.plot(x)\n",
    "plt.show()"
   ]
  }
 ],
 "metadata": {
  "kernelspec": {
   "display_name": ".venv",
   "language": "python",
   "name": "python3"
  },
  "language_info": {
   "codemirror_mode": {
    "name": "ipython",
    "version": 3
   },
   "file_extension": ".py",
   "mimetype": "text/x-python",
   "name": "python",
   "nbconvert_exporter": "python",
   "pygments_lexer": "ipython3",
   "version": "3.9.0"
  }
 },
 "nbformat": 4,
 "nbformat_minor": 2
}
